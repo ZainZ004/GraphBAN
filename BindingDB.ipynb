{
 "cells": [
  {
   "cell_type": "code",
   "execution_count": null,
   "id": "90431e34",
   "metadata": {
    "vscode": {
     "languageId": "plaintext"
    }
   },
   "outputs": [],
   "source": [
    "import os\n",
    "\n",
    "from tqdm import tqdm\n",
    "\n",
    "# Base command template\n",
    "command_template = (\n",
    "    \"python case_study/predict.py --test_path case_study/zinc_data/split_zinc_{index}.csv \"\n",
    "    \"--folder_path case_study/result_bindingdb12_zinc{index} --save_dir case_study/test_zinc{index}_preds.csv\"\n",
    ")\n",
    "\n",
    "# Loop through indexes 1 to 25 with tqdm progress bar\n",
    "for i in tqdm(range(1, 26), desc=\"Running model for zinc files\"):\n",
    "    # Format the command with the current index\n",
    "    command = command_template.format(index=i)\n",
    "\n",
    "    # Execute the command\n",
    "    os.system(command)\n",
    "\n",
    "import pandas as pd\n",
    "\n",
    "# List to store dataframes\n",
    "dataframes = []\n",
    "\n",
    "# Define the first and last indexes\n",
    "\n",
    "\n",
    "# Loop through the specified indexes (first and last)\n",
    "for i in range(1, 26):\n",
    "    # Construct the folder name\n",
    "    folder_name = f\"result_bindingdb12_zinc{i}\"\n",
    "\n",
    "    # Construct the file path for the CSV\n",
    "    csv_file_path = os.path.join(folder_name, f\"test_zinc{i}_preds.csv\")\n",
    "\n",
    "    # Check if the file exists\n",
    "    if os.path.exists(csv_file_path):\n",
    "        # Read the CSV file\n",
    "        df = pd.read_csv(csv_file_path)\n",
    "\n",
    "        # Append the dataframe to the list\n",
    "        dataframes.append(df)\n",
    "    else:\n",
    "        print(f\"File {csv_file_path} does not exist.\")\n",
    "\n",
    "# Concatenate all dataframes vertically\n",
    "stacked_df = pd.concat(dataframes, ignore_index=True)\n",
    "\n",
    "# Optionally save the stacked dataframe to a CSV file\n",
    "stacked_df.to_csv(\"stacked_results.csv\", index=False)\n",
    "\n",
    "print(\"All files have been stacked and saved to 'stacked_results.csv'.\")\n"
   ]
  }
 ],
 "metadata": {
  "language_info": {
   "name": "python"
  }
 },
 "nbformat": 4,
 "nbformat_minor": 5
}
